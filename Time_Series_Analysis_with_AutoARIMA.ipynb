{
 "cells": [
  {
   "cell_type": "markdown",
   "metadata": {},
   "source": [
    "\n",
    "# ARIMA and Seasonal ARIMA\n",
    "\n",
    "\n",
    "## Autoregressive Integrated Moving Averages\n",
    "\n",
    "The general process for ARIMA models is the following:\n",
    "* Visualize the Time Series Data\n",
    "* Make the time series data stationary\n",
    "* Plot the Correlation and AutoCorrelation Charts\n",
    "* Construct the ARIMA Model or Seasonal ARIMA based on the data\n",
    "* Use the model to make predictions\n",
    "\n",
    "Let's go through these steps!"
   ]
  },
  {
   "cell_type": "code",
   "execution_count": 1,
   "metadata": {},
   "outputs": [],
   "source": [
    "import numpy as np\n",
    "import pandas as pd\n",
    "\n",
    "import matplotlib.pyplot as plt\n",
    "%matplotlib inline"
   ]
  },
  {
   "cell_type": "code",
   "execution_count": 2,
   "metadata": {},
   "outputs": [],
   "source": [
    "df=pd.read_excel('C:\\\\Users\\\\Admin\\\\Desktop\\\\Assignment_Data_vF.xls')"
   ]
  },
  {
   "cell_type": "code",
   "execution_count": 3,
   "metadata": {},
   "outputs": [
    {
     "data": {
      "text/html": [
       "<div>\n",
       "<style scoped>\n",
       "    .dataframe tbody tr th:only-of-type {\n",
       "        vertical-align: middle;\n",
       "    }\n",
       "\n",
       "    .dataframe tbody tr th {\n",
       "        vertical-align: top;\n",
       "    }\n",
       "\n",
       "    .dataframe thead th {\n",
       "        text-align: right;\n",
       "    }\n",
       "</style>\n",
       "<table border=\"1\" class=\"dataframe\">\n",
       "  <thead>\n",
       "    <tr style=\"text-align: right;\">\n",
       "      <th></th>\n",
       "      <th>DATE</th>\n",
       "      <th>Open</th>\n",
       "      <th>High</th>\n",
       "      <th>Low</th>\n",
       "      <th>Close</th>\n",
       "      <th>Adj Close</th>\n",
       "      <th>Volume</th>\n",
       "    </tr>\n",
       "  </thead>\n",
       "  <tbody>\n",
       "    <tr>\n",
       "      <th>0</th>\n",
       "      <td>1</td>\n",
       "      <td>9646.700195</td>\n",
       "      <td>9647.049805</td>\n",
       "      <td>9598.500000</td>\n",
       "      <td>9616.400391</td>\n",
       "      <td>9616.400391</td>\n",
       "      <td>141400.0</td>\n",
       "    </tr>\n",
       "    <tr>\n",
       "      <th>1</th>\n",
       "      <td>2</td>\n",
       "      <td>9615.549805</td>\n",
       "      <td>9654.150391</td>\n",
       "      <td>9595.400391</td>\n",
       "      <td>9606.900391</td>\n",
       "      <td>9606.900391</td>\n",
       "      <td>129700.0</td>\n",
       "    </tr>\n",
       "    <tr>\n",
       "      <th>2</th>\n",
       "      <td>3</td>\n",
       "      <td>9621.549805</td>\n",
       "      <td>9627.400391</td>\n",
       "      <td>9580.450195</td>\n",
       "      <td>9618.150391</td>\n",
       "      <td>9618.150391</td>\n",
       "      <td>181800.0</td>\n",
       "    </tr>\n",
       "    <tr>\n",
       "      <th>3</th>\n",
       "      <td>4</td>\n",
       "      <td>9617.900391</td>\n",
       "      <td>9621.400391</td>\n",
       "      <td>9560.799805</td>\n",
       "      <td>9578.049805</td>\n",
       "      <td>9578.049805</td>\n",
       "      <td>171100.0</td>\n",
       "    </tr>\n",
       "    <tr>\n",
       "      <th>4</th>\n",
       "      <td>5</td>\n",
       "      <td>9595.450195</td>\n",
       "      <td>9615.849609</td>\n",
       "      <td>9565.500000</td>\n",
       "      <td>9588.049805</td>\n",
       "      <td>9588.049805</td>\n",
       "      <td>213200.0</td>\n",
       "    </tr>\n",
       "  </tbody>\n",
       "</table>\n",
       "</div>"
      ],
      "text/plain": [
       "   DATE         Open         High          Low        Close    Adj Close  \\\n",
       "0     1  9646.700195  9647.049805  9598.500000  9616.400391  9616.400391   \n",
       "1     2  9615.549805  9654.150391  9595.400391  9606.900391  9606.900391   \n",
       "2     3  9621.549805  9627.400391  9580.450195  9618.150391  9618.150391   \n",
       "3     4  9617.900391  9621.400391  9560.799805  9578.049805  9578.049805   \n",
       "4     5  9595.450195  9615.849609  9565.500000  9588.049805  9588.049805   \n",
       "\n",
       "     Volume  \n",
       "0  141400.0  \n",
       "1  129700.0  \n",
       "2  181800.0  \n",
       "3  171100.0  \n",
       "4  213200.0  "
      ]
     },
     "execution_count": 3,
     "metadata": {},
     "output_type": "execute_result"
    }
   ],
   "source": [
    "df.head()"
   ]
  },
  {
   "cell_type": "code",
   "execution_count": 27,
   "metadata": {},
   "outputs": [],
   "source": [
    "df['date'] = pd.date_range(start='1/1/2018', periods=len(df), freq='d')"
   ]
  },
  {
   "cell_type": "code",
   "execution_count": 28,
   "metadata": {},
   "outputs": [],
   "source": [
    "df.set_index('date',inplace=True)"
   ]
  },
  {
   "cell_type": "code",
   "execution_count": 303,
   "metadata": {},
   "outputs": [
    {
     "data": {
      "text/plain": [
       "DATE         0\n",
       "Open         0\n",
       "High         0\n",
       "Low          0\n",
       "Close        0\n",
       "Adj Close    0\n",
       "Volume       0\n",
       "forecast     4\n",
       "dtype: int64"
      ]
     },
     "execution_count": 303,
     "metadata": {},
     "output_type": "execute_result"
    }
   ],
   "source": [
    "df.isna().sum()"
   ]
  },
  {
   "cell_type": "code",
   "execution_count": 308,
   "metadata": {},
   "outputs": [],
   "source": [
    "null_columns=df.columns[df.isnull().any()]"
   ]
  },
  {
   "cell_type": "code",
   "execution_count": 309,
   "metadata": {},
   "outputs": [
    {
     "name": "stdout",
     "output_type": "stream",
     "text": [
      "            forecast\n",
      "date                \n",
      "2018-01-01       NaN\n",
      "2021-03-10       NaN\n",
      "2021-03-11       NaN\n",
      "2021-03-12       NaN\n"
     ]
    }
   ],
   "source": [
    "print(df[df.isnull().any(axis=1)][null_columns].head())"
   ]
  },
  {
   "cell_type": "code",
   "execution_count": 286,
   "metadata": {},
   "outputs": [
    {
     "name": "stdout",
     "output_type": "stream",
     "text": [
      "['DATE' ,'Open' ,'High' ,'Low' ,'Close' ,'Adj Close' ,'Volume' ,]\n"
     ]
    }
   ],
   "source": [
    "print(\"[\", end=\"\")\n",
    "for i in df.columns:\n",
    "    print(\"'\"+i+\"'\", \",\", end=\"\")\n",
    "print(\"]\")\n"
   ]
  },
  {
   "cell_type": "code",
   "execution_count": 6,
   "metadata": {},
   "outputs": [],
   "source": [
    "mean=df.filter(['Open' ,'High' ,'Low' ,'Close' ,'Adj Close' ,'Volume' ]).mean()\n",
    "df[['Open' ,'High' ,'Low' ,'Close' ,'Adj Close' ,'Volume']]=df[['Open' ,'High' ,'Low' ,'Close' ,'Adj Close' ,'Volume']].fillna(mean)"
   ]
  },
  {
   "cell_type": "code",
   "execution_count": 310,
   "metadata": {},
   "outputs": [],
   "source": [
    "df.dropna(inplace=True)"
   ]
  },
  {
   "cell_type": "code",
   "execution_count": 123,
   "metadata": {},
   "outputs": [],
   "source": [
    "df['year']=0"
   ]
  },
  {
   "cell_type": "code",
   "execution_count": 124,
   "metadata": {},
   "outputs": [],
   "source": [
    "df['month']=0"
   ]
  },
  {
   "cell_type": "code",
   "execution_count": 8,
   "metadata": {},
   "outputs": [],
   "source": [
    "## Drop last 2 rows\n",
    "df.drop(106,axis=0,inplace=True)"
   ]
  },
  {
   "cell_type": "code",
   "execution_count": 29,
   "metadata": {},
   "outputs": [
    {
     "data": {
      "text/html": [
       "<div>\n",
       "<style scoped>\n",
       "    .dataframe tbody tr th:only-of-type {\n",
       "        vertical-align: middle;\n",
       "    }\n",
       "\n",
       "    .dataframe tbody tr th {\n",
       "        vertical-align: top;\n",
       "    }\n",
       "\n",
       "    .dataframe thead th {\n",
       "        text-align: right;\n",
       "    }\n",
       "</style>\n",
       "<table border=\"1\" class=\"dataframe\">\n",
       "  <thead>\n",
       "    <tr style=\"text-align: right;\">\n",
       "      <th></th>\n",
       "      <th>DATE</th>\n",
       "      <th>Open</th>\n",
       "      <th>High</th>\n",
       "      <th>Low</th>\n",
       "      <th>Close</th>\n",
       "      <th>Adj Close</th>\n",
       "      <th>Volume</th>\n",
       "      <th>NIFTY First Difference</th>\n",
       "      <th>forecast</th>\n",
       "    </tr>\n",
       "    <tr>\n",
       "      <th>date</th>\n",
       "      <th></th>\n",
       "      <th></th>\n",
       "      <th></th>\n",
       "      <th></th>\n",
       "      <th></th>\n",
       "      <th></th>\n",
       "      <th></th>\n",
       "      <th></th>\n",
       "      <th></th>\n",
       "    </tr>\n",
       "  </thead>\n",
       "  <tbody>\n",
       "    <tr>\n",
       "      <th>2018-01-01</th>\n",
       "      <td>1</td>\n",
       "      <td>9646.700195</td>\n",
       "      <td>9647.049805</td>\n",
       "      <td>9598.500000</td>\n",
       "      <td>9616.400391</td>\n",
       "      <td>9616.400391</td>\n",
       "      <td>141400.0</td>\n",
       "      <td>NaN</td>\n",
       "      <td>NaN</td>\n",
       "    </tr>\n",
       "    <tr>\n",
       "      <th>2018-01-02</th>\n",
       "      <td>2</td>\n",
       "      <td>9615.549805</td>\n",
       "      <td>9654.150391</td>\n",
       "      <td>9595.400391</td>\n",
       "      <td>9606.900391</td>\n",
       "      <td>9606.900391</td>\n",
       "      <td>129700.0</td>\n",
       "      <td>-9.500000</td>\n",
       "      <td>-1.860087e-12</td>\n",
       "    </tr>\n",
       "    <tr>\n",
       "      <th>2018-01-03</th>\n",
       "      <td>3</td>\n",
       "      <td>9621.549805</td>\n",
       "      <td>9627.400391</td>\n",
       "      <td>9580.450195</td>\n",
       "      <td>9618.150391</td>\n",
       "      <td>9618.150391</td>\n",
       "      <td>181800.0</td>\n",
       "      <td>11.250000</td>\n",
       "      <td>-4.619558e-12</td>\n",
       "    </tr>\n",
       "    <tr>\n",
       "      <th>2018-01-04</th>\n",
       "      <td>4</td>\n",
       "      <td>9617.900391</td>\n",
       "      <td>9621.400391</td>\n",
       "      <td>9560.799805</td>\n",
       "      <td>9578.049805</td>\n",
       "      <td>9578.049805</td>\n",
       "      <td>171100.0</td>\n",
       "      <td>-40.100586</td>\n",
       "      <td>-2.391541e-12</td>\n",
       "    </tr>\n",
       "    <tr>\n",
       "      <th>2018-01-05</th>\n",
       "      <td>5</td>\n",
       "      <td>9595.450195</td>\n",
       "      <td>9615.849609</td>\n",
       "      <td>9565.500000</td>\n",
       "      <td>9588.049805</td>\n",
       "      <td>9588.049805</td>\n",
       "      <td>213200.0</td>\n",
       "      <td>10.000000</td>\n",
       "      <td>-4.456034e-12</td>\n",
       "    </tr>\n",
       "  </tbody>\n",
       "</table>\n",
       "</div>"
      ],
      "text/plain": [
       "            DATE         Open         High          Low        Close  \\\n",
       "date                                                                   \n",
       "2018-01-01     1  9646.700195  9647.049805  9598.500000  9616.400391   \n",
       "2018-01-02     2  9615.549805  9654.150391  9595.400391  9606.900391   \n",
       "2018-01-03     3  9621.549805  9627.400391  9580.450195  9618.150391   \n",
       "2018-01-04     4  9617.900391  9621.400391  9560.799805  9578.049805   \n",
       "2018-01-05     5  9595.450195  9615.849609  9565.500000  9588.049805   \n",
       "\n",
       "              Adj Close    Volume  NIFTY First Difference      forecast  \n",
       "date                                                                     \n",
       "2018-01-01  9616.400391  141400.0                     NaN           NaN  \n",
       "2018-01-02  9606.900391  129700.0               -9.500000 -1.860087e-12  \n",
       "2018-01-03  9618.150391  181800.0               11.250000 -4.619558e-12  \n",
       "2018-01-04  9578.049805  171100.0              -40.100586 -2.391541e-12  \n",
       "2018-01-05  9588.049805  213200.0               10.000000 -4.456034e-12  "
      ]
     },
     "execution_count": 29,
     "metadata": {},
     "output_type": "execute_result"
    }
   ],
   "source": [
    "df.head()"
   ]
  },
  {
   "cell_type": "code",
   "execution_count": 10,
   "metadata": {},
   "outputs": [],
   "source": [
    "df.drop(105,axis=0,inplace=True)"
   ]
  },
  {
   "cell_type": "code",
   "execution_count": null,
   "metadata": {},
   "outputs": [],
   "source": [
    "pd.date_range"
   ]
  },
  {
   "cell_type": "code",
   "execution_count": 113,
   "metadata": {},
   "outputs": [],
   "source": [
    "df.reset_index(inplace=True)"
   ]
  },
  {
   "cell_type": "code",
   "execution_count": 158,
   "metadata": {},
   "outputs": [
    {
     "data": {
      "text/html": [
       "<div>\n",
       "<style scoped>\n",
       "    .dataframe tbody tr th:only-of-type {\n",
       "        vertical-align: middle;\n",
       "    }\n",
       "\n",
       "    .dataframe tbody tr th {\n",
       "        vertical-align: top;\n",
       "    }\n",
       "\n",
       "    .dataframe thead th {\n",
       "        text-align: right;\n",
       "    }\n",
       "</style>\n",
       "<table border=\"1\" class=\"dataframe\">\n",
       "  <thead>\n",
       "    <tr style=\"text-align: right;\">\n",
       "      <th></th>\n",
       "      <th>DATE</th>\n",
       "      <th>Open</th>\n",
       "      <th>High</th>\n",
       "      <th>Low</th>\n",
       "      <th>Close</th>\n",
       "      <th>Adj Close</th>\n",
       "      <th>Volume</th>\n",
       "    </tr>\n",
       "    <tr>\n",
       "      <th>date</th>\n",
       "      <th></th>\n",
       "      <th></th>\n",
       "      <th></th>\n",
       "      <th></th>\n",
       "      <th></th>\n",
       "      <th></th>\n",
       "      <th></th>\n",
       "    </tr>\n",
       "  </thead>\n",
       "  <tbody>\n",
       "    <tr>\n",
       "      <th>1982-03-08</th>\n",
       "      <td>1163</td>\n",
       "      <td>16847.949219</td>\n",
       "      <td>17148.550781</td>\n",
       "      <td>16843.800781</td>\n",
       "      <td>17092.199219</td>\n",
       "      <td>17092.199219</td>\n",
       "      <td>300100.0</td>\n",
       "    </tr>\n",
       "    <tr>\n",
       "      <th>1982-03-09</th>\n",
       "      <td>1164</td>\n",
       "      <td>17194.500000</td>\n",
       "      <td>17220.699219</td>\n",
       "      <td>17027.849609</td>\n",
       "      <td>17063.250000</td>\n",
       "      <td>17063.250000</td>\n",
       "      <td>200200.0</td>\n",
       "    </tr>\n",
       "    <tr>\n",
       "      <th>1982-03-10</th>\n",
       "      <td>1165</td>\n",
       "      <td>16548.900391</td>\n",
       "      <td>16705.250000</td>\n",
       "      <td>16203.250000</td>\n",
       "      <td>16247.950195</td>\n",
       "      <td>16247.950195</td>\n",
       "      <td>458000.0</td>\n",
       "    </tr>\n",
       "    <tr>\n",
       "      <th>1982-03-11</th>\n",
       "      <td>1166</td>\n",
       "      <td>16515.650391</td>\n",
       "      <td>16748.800781</td>\n",
       "      <td>16478.300781</td>\n",
       "      <td>16658.400391</td>\n",
       "      <td>16658.400391</td>\n",
       "      <td>329800.0</td>\n",
       "    </tr>\n",
       "    <tr>\n",
       "      <th>1982-03-12</th>\n",
       "      <td>1167</td>\n",
       "      <td>16481.599609</td>\n",
       "      <td>16815.900391</td>\n",
       "      <td>16356.299805</td>\n",
       "      <td>16793.900391</td>\n",
       "      <td>16793.900391</td>\n",
       "      <td>404200.0</td>\n",
       "    </tr>\n",
       "  </tbody>\n",
       "</table>\n",
       "</div>"
      ],
      "text/plain": [
       "            DATE          Open          High           Low         Close  \\\n",
       "date                                                                       \n",
       "1982-03-08  1163  16847.949219  17148.550781  16843.800781  17092.199219   \n",
       "1982-03-09  1164  17194.500000  17220.699219  17027.849609  17063.250000   \n",
       "1982-03-10  1165  16548.900391  16705.250000  16203.250000  16247.950195   \n",
       "1982-03-11  1166  16515.650391  16748.800781  16478.300781  16658.400391   \n",
       "1982-03-12  1167  16481.599609  16815.900391  16356.299805  16793.900391   \n",
       "\n",
       "               Adj Close    Volume  \n",
       "date                                \n",
       "1982-03-08  17092.199219  300100.0  \n",
       "1982-03-09  17063.250000  200200.0  \n",
       "1982-03-10  16247.950195  458000.0  \n",
       "1982-03-11  16658.400391  329800.0  \n",
       "1982-03-12  16793.900391  404200.0  "
      ]
     },
     "execution_count": 158,
     "metadata": {},
     "output_type": "execute_result"
    }
   ],
   "source": [
    "df.tail()"
   ]
  },
  {
   "cell_type": "code",
   "execution_count": null,
   "metadata": {},
   "outputs": [],
   "source": []
  },
  {
   "cell_type": "code",
   "execution_count": 186,
   "metadata": {},
   "outputs": [
    {
     "data": {
      "text/html": [
       "<div>\n",
       "<style scoped>\n",
       "    .dataframe tbody tr th:only-of-type {\n",
       "        vertical-align: middle;\n",
       "    }\n",
       "\n",
       "    .dataframe tbody tr th {\n",
       "        vertical-align: top;\n",
       "    }\n",
       "\n",
       "    .dataframe thead th {\n",
       "        text-align: right;\n",
       "    }\n",
       "</style>\n",
       "<table border=\"1\" class=\"dataframe\">\n",
       "  <thead>\n",
       "    <tr style=\"text-align: right;\">\n",
       "      <th></th>\n",
       "      <th>DATE</th>\n",
       "      <th>Open</th>\n",
       "      <th>High</th>\n",
       "      <th>Low</th>\n",
       "      <th>Close</th>\n",
       "      <th>Adj Close</th>\n",
       "      <th>Volume</th>\n",
       "      <th>forecast</th>\n",
       "      <th>NIFTY First Difference</th>\n",
       "    </tr>\n",
       "    <tr>\n",
       "      <th>date</th>\n",
       "      <th></th>\n",
       "      <th></th>\n",
       "      <th></th>\n",
       "      <th></th>\n",
       "      <th></th>\n",
       "      <th></th>\n",
       "      <th></th>\n",
       "      <th></th>\n",
       "      <th></th>\n",
       "    </tr>\n",
       "  </thead>\n",
       "  <tbody>\n",
       "    <tr>\n",
       "      <th>2021-03-04</th>\n",
       "      <td>1163</td>\n",
       "      <td>16847.949219</td>\n",
       "      <td>17148.550781</td>\n",
       "      <td>16843.800781</td>\n",
       "      <td>17092.199219</td>\n",
       "      <td>17092.199219</td>\n",
       "      <td>300100.0</td>\n",
       "      <td>17276.714212</td>\n",
       "      <td>-114.451172</td>\n",
       "    </tr>\n",
       "    <tr>\n",
       "      <th>2021-03-05</th>\n",
       "      <td>1164</td>\n",
       "      <td>17194.500000</td>\n",
       "      <td>17220.699219</td>\n",
       "      <td>17027.849609</td>\n",
       "      <td>17063.250000</td>\n",
       "      <td>17063.250000</td>\n",
       "      <td>200200.0</td>\n",
       "      <td>17011.573633</td>\n",
       "      <td>-28.949219</td>\n",
       "    </tr>\n",
       "    <tr>\n",
       "      <th>2021-03-06</th>\n",
       "      <td>1165</td>\n",
       "      <td>16548.900391</td>\n",
       "      <td>16705.250000</td>\n",
       "      <td>16203.250000</td>\n",
       "      <td>16247.950195</td>\n",
       "      <td>16247.950195</td>\n",
       "      <td>458000.0</td>\n",
       "      <td>17116.671432</td>\n",
       "      <td>-815.299805</td>\n",
       "    </tr>\n",
       "    <tr>\n",
       "      <th>2021-03-07</th>\n",
       "      <td>1166</td>\n",
       "      <td>16515.650391</td>\n",
       "      <td>16748.800781</td>\n",
       "      <td>16478.300781</td>\n",
       "      <td>16658.400391</td>\n",
       "      <td>16658.400391</td>\n",
       "      <td>329800.0</td>\n",
       "      <td>16227.530124</td>\n",
       "      <td>410.450196</td>\n",
       "    </tr>\n",
       "    <tr>\n",
       "      <th>2021-03-08</th>\n",
       "      <td>1167</td>\n",
       "      <td>16481.599609</td>\n",
       "      <td>16815.900391</td>\n",
       "      <td>16356.299805</td>\n",
       "      <td>16793.900391</td>\n",
       "      <td>16793.900391</td>\n",
       "      <td>404200.0</td>\n",
       "      <td>16621.628095</td>\n",
       "      <td>135.500000</td>\n",
       "    </tr>\n",
       "  </tbody>\n",
       "</table>\n",
       "</div>"
      ],
      "text/plain": [
       "            DATE          Open          High           Low         Close  \\\n",
       "date                                                                       \n",
       "2021-03-04  1163  16847.949219  17148.550781  16843.800781  17092.199219   \n",
       "2021-03-05  1164  17194.500000  17220.699219  17027.849609  17063.250000   \n",
       "2021-03-06  1165  16548.900391  16705.250000  16203.250000  16247.950195   \n",
       "2021-03-07  1166  16515.650391  16748.800781  16478.300781  16658.400391   \n",
       "2021-03-08  1167  16481.599609  16815.900391  16356.299805  16793.900391   \n",
       "\n",
       "               Adj Close    Volume      forecast  NIFTY First Difference  \n",
       "date                                                                      \n",
       "2021-03-04  17092.199219  300100.0  17276.714212             -114.451172  \n",
       "2021-03-05  17063.250000  200200.0  17011.573633              -28.949219  \n",
       "2021-03-06  16247.950195  458000.0  17116.671432             -815.299805  \n",
       "2021-03-07  16658.400391  329800.0  16227.530124              410.450196  \n",
       "2021-03-08  16793.900391  404200.0  16621.628095              135.500000  "
      ]
     },
     "execution_count": 186,
     "metadata": {},
     "output_type": "execute_result"
    }
   ],
   "source": [
    "df.tail()"
   ]
  },
  {
   "cell_type": "code",
   "execution_count": 176,
   "metadata": {},
   "outputs": [],
   "source": []
  },
  {
   "cell_type": "code",
   "execution_count": 188,
   "metadata": {},
   "outputs": [
    {
     "data": {
      "text/html": [
       "<div>\n",
       "<style scoped>\n",
       "    .dataframe tbody tr th:only-of-type {\n",
       "        vertical-align: middle;\n",
       "    }\n",
       "\n",
       "    .dataframe tbody tr th {\n",
       "        vertical-align: top;\n",
       "    }\n",
       "\n",
       "    .dataframe thead th {\n",
       "        text-align: right;\n",
       "    }\n",
       "</style>\n",
       "<table border=\"1\" class=\"dataframe\">\n",
       "  <thead>\n",
       "    <tr style=\"text-align: right;\">\n",
       "      <th></th>\n",
       "      <th>DATE</th>\n",
       "      <th>Open</th>\n",
       "      <th>High</th>\n",
       "      <th>Low</th>\n",
       "      <th>Close</th>\n",
       "      <th>Adj Close</th>\n",
       "      <th>Volume</th>\n",
       "      <th>forecast</th>\n",
       "      <th>NIFTY First Difference</th>\n",
       "    </tr>\n",
       "    <tr>\n",
       "      <th>date</th>\n",
       "      <th></th>\n",
       "      <th></th>\n",
       "      <th></th>\n",
       "      <th></th>\n",
       "      <th></th>\n",
       "      <th></th>\n",
       "      <th></th>\n",
       "      <th></th>\n",
       "      <th></th>\n",
       "    </tr>\n",
       "  </thead>\n",
       "  <tbody>\n",
       "    <tr>\n",
       "      <th>2018-01-01</th>\n",
       "      <td>1</td>\n",
       "      <td>9646.700195</td>\n",
       "      <td>9647.049805</td>\n",
       "      <td>9598.500000</td>\n",
       "      <td>9616.400391</td>\n",
       "      <td>9616.400391</td>\n",
       "      <td>141400.0</td>\n",
       "      <td>NaN</td>\n",
       "      <td>NaN</td>\n",
       "    </tr>\n",
       "    <tr>\n",
       "      <th>2018-01-02</th>\n",
       "      <td>2</td>\n",
       "      <td>9615.549805</td>\n",
       "      <td>9654.150391</td>\n",
       "      <td>9595.400391</td>\n",
       "      <td>9606.900391</td>\n",
       "      <td>9606.900391</td>\n",
       "      <td>129700.0</td>\n",
       "      <td>9614.576449</td>\n",
       "      <td>-9.500000</td>\n",
       "    </tr>\n",
       "    <tr>\n",
       "      <th>2018-01-03</th>\n",
       "      <td>3</td>\n",
       "      <td>9621.549805</td>\n",
       "      <td>9627.400391</td>\n",
       "      <td>9580.450195</td>\n",
       "      <td>9618.150391</td>\n",
       "      <td>9618.150391</td>\n",
       "      <td>181800.0</td>\n",
       "      <td>9608.586724</td>\n",
       "      <td>11.250000</td>\n",
       "    </tr>\n",
       "    <tr>\n",
       "      <th>2018-01-04</th>\n",
       "      <td>4</td>\n",
       "      <td>9617.900391</td>\n",
       "      <td>9621.400391</td>\n",
       "      <td>9560.799805</td>\n",
       "      <td>9578.049805</td>\n",
       "      <td>9578.049805</td>\n",
       "      <td>171100.0</td>\n",
       "      <td>9612.248180</td>\n",
       "      <td>-40.100586</td>\n",
       "    </tr>\n",
       "    <tr>\n",
       "      <th>2018-01-05</th>\n",
       "      <td>5</td>\n",
       "      <td>9595.450195</td>\n",
       "      <td>9615.849609</td>\n",
       "      <td>9565.500000</td>\n",
       "      <td>9588.049805</td>\n",
       "      <td>9588.049805</td>\n",
       "      <td>213200.0</td>\n",
       "      <td>9582.758382</td>\n",
       "      <td>10.000000</td>\n",
       "    </tr>\n",
       "  </tbody>\n",
       "</table>\n",
       "</div>"
      ],
      "text/plain": [
       "            DATE         Open         High          Low        Close  \\\n",
       "date                                                                   \n",
       "2018-01-01     1  9646.700195  9647.049805  9598.500000  9616.400391   \n",
       "2018-01-02     2  9615.549805  9654.150391  9595.400391  9606.900391   \n",
       "2018-01-03     3  9621.549805  9627.400391  9580.450195  9618.150391   \n",
       "2018-01-04     4  9617.900391  9621.400391  9560.799805  9578.049805   \n",
       "2018-01-05     5  9595.450195  9615.849609  9565.500000  9588.049805   \n",
       "\n",
       "              Adj Close    Volume     forecast  NIFTY First Difference  \n",
       "date                                                                    \n",
       "2018-01-01  9616.400391  141400.0          NaN                     NaN  \n",
       "2018-01-02  9606.900391  129700.0  9614.576449               -9.500000  \n",
       "2018-01-03  9618.150391  181800.0  9608.586724               11.250000  \n",
       "2018-01-04  9578.049805  171100.0  9612.248180              -40.100586  \n",
       "2018-01-05  9588.049805  213200.0  9582.758382               10.000000  "
      ]
     },
     "execution_count": 188,
     "metadata": {},
     "output_type": "execute_result"
    }
   ],
   "source": [
    "df.head()"
   ]
  },
  {
   "cell_type": "code",
   "execution_count": 155,
   "metadata": {},
   "outputs": [
    {
     "data": {
      "text/html": [
       "<div>\n",
       "<style scoped>\n",
       "    .dataframe tbody tr th:only-of-type {\n",
       "        vertical-align: middle;\n",
       "    }\n",
       "\n",
       "    .dataframe tbody tr th {\n",
       "        vertical-align: top;\n",
       "    }\n",
       "\n",
       "    .dataframe thead th {\n",
       "        text-align: right;\n",
       "    }\n",
       "</style>\n",
       "<table border=\"1\" class=\"dataframe\">\n",
       "  <thead>\n",
       "    <tr style=\"text-align: right;\">\n",
       "      <th></th>\n",
       "      <th>DATE</th>\n",
       "      <th>Open</th>\n",
       "      <th>High</th>\n",
       "      <th>Low</th>\n",
       "      <th>Close</th>\n",
       "      <th>Adj Close</th>\n",
       "      <th>Volume</th>\n",
       "    </tr>\n",
       "  </thead>\n",
       "  <tbody>\n",
       "    <tr>\n",
       "      <th>count</th>\n",
       "      <td>1167.000000</td>\n",
       "      <td>1163.000000</td>\n",
       "      <td>1163.000000</td>\n",
       "      <td>1163.000000</td>\n",
       "      <td>1163.000000</td>\n",
       "      <td>1163.000000</td>\n",
       "      <td>1.163000e+03</td>\n",
       "    </tr>\n",
       "    <tr>\n",
       "      <th>mean</th>\n",
       "      <td>584.000000</td>\n",
       "      <td>12262.283755</td>\n",
       "      <td>12322.435463</td>\n",
       "      <td>12175.467228</td>\n",
       "      <td>12250.760360</td>\n",
       "      <td>12250.760360</td>\n",
       "      <td>4.157183e+05</td>\n",
       "    </tr>\n",
       "    <tr>\n",
       "      <th>std</th>\n",
       "      <td>337.028189</td>\n",
       "      <td>2514.980126</td>\n",
       "      <td>2521.722058</td>\n",
       "      <td>2500.592862</td>\n",
       "      <td>2513.511192</td>\n",
       "      <td>2513.511192</td>\n",
       "      <td>2.322899e+05</td>\n",
       "    </tr>\n",
       "    <tr>\n",
       "      <th>min</th>\n",
       "      <td>1.000000</td>\n",
       "      <td>7735.149902</td>\n",
       "      <td>8036.950195</td>\n",
       "      <td>7511.100098</td>\n",
       "      <td>7610.250000</td>\n",
       "      <td>7610.250000</td>\n",
       "      <td>0.000000e+00</td>\n",
       "    </tr>\n",
       "    <tr>\n",
       "      <th>25%</th>\n",
       "      <td>292.500000</td>\n",
       "      <td>10562.000000</td>\n",
       "      <td>10609.774902</td>\n",
       "      <td>10493.550293</td>\n",
       "      <td>10550.425293</td>\n",
       "      <td>10550.425293</td>\n",
       "      <td>2.401500e+05</td>\n",
       "    </tr>\n",
       "    <tr>\n",
       "      <th>50%</th>\n",
       "      <td>584.000000</td>\n",
       "      <td>11359.799805</td>\n",
       "      <td>11398.150391</td>\n",
       "      <td>11274.000000</td>\n",
       "      <td>11341.150391</td>\n",
       "      <td>11341.150391</td>\n",
       "      <td>3.575000e+05</td>\n",
       "    </tr>\n",
       "    <tr>\n",
       "      <th>75%</th>\n",
       "      <td>875.500000</td>\n",
       "      <td>13787.400391</td>\n",
       "      <td>13891.774903</td>\n",
       "      <td>13667.649903</td>\n",
       "      <td>13789.049805</td>\n",
       "      <td>13789.049805</td>\n",
       "      <td>5.640500e+05</td>\n",
       "    </tr>\n",
       "    <tr>\n",
       "      <th>max</th>\n",
       "      <td>1167.000000</td>\n",
       "      <td>18602.349609</td>\n",
       "      <td>18604.449219</td>\n",
       "      <td>18445.300781</td>\n",
       "      <td>18477.050781</td>\n",
       "      <td>18477.050781</td>\n",
       "      <td>1.811000e+06</td>\n",
       "    </tr>\n",
       "  </tbody>\n",
       "</table>\n",
       "</div>"
      ],
      "text/plain": [
       "              DATE          Open          High           Low         Close  \\\n",
       "count  1167.000000   1163.000000   1163.000000   1163.000000   1163.000000   \n",
       "mean    584.000000  12262.283755  12322.435463  12175.467228  12250.760360   \n",
       "std     337.028189   2514.980126   2521.722058   2500.592862   2513.511192   \n",
       "min       1.000000   7735.149902   8036.950195   7511.100098   7610.250000   \n",
       "25%     292.500000  10562.000000  10609.774902  10493.550293  10550.425293   \n",
       "50%     584.000000  11359.799805  11398.150391  11274.000000  11341.150391   \n",
       "75%     875.500000  13787.400391  13891.774903  13667.649903  13789.049805   \n",
       "max    1167.000000  18602.349609  18604.449219  18445.300781  18477.050781   \n",
       "\n",
       "          Adj Close        Volume  \n",
       "count   1163.000000  1.163000e+03  \n",
       "mean   12250.760360  4.157183e+05  \n",
       "std     2513.511192  2.322899e+05  \n",
       "min     7610.250000  0.000000e+00  \n",
       "25%    10550.425293  2.401500e+05  \n",
       "50%    11341.150391  3.575000e+05  \n",
       "75%    13789.049805  5.640500e+05  \n",
       "max    18477.050781  1.811000e+06  "
      ]
     },
     "execution_count": 155,
     "metadata": {},
     "output_type": "execute_result"
    }
   ],
   "source": [
    "df.describe()"
   ]
  },
  {
   "cell_type": "markdown",
   "metadata": {},
   "source": [
    "## Step 2: Visualize the Data"
   ]
  },
  {
   "cell_type": "code",
   "execution_count": 8,
   "metadata": {},
   "outputs": [
    {
     "data": {
      "text/plain": [
       "<AxesSubplot:xlabel='date'>"
      ]
     },
     "execution_count": 8,
     "metadata": {},
     "output_type": "execute_result"
    },
    {
     "data": {
      "image/png": "[encoded data removed]",
      "text/plain": [
       "<Figure size 432x288 with 1 Axes>"
      ]
     },
     "metadata": {
      "needs_background": "light"
     },
     "output_type": "display_data"
    }
   ],
   "source": [
    "df['Adj Close'].plot()"
   ]
  },
  {
   "cell_type": "code",
   "execution_count": 11,
   "metadata": {},
   "outputs": [],
   "source": [
    "### Testing For Stationarity\n",
    "\n",
    "from statsmodels.tsa.stattools import adfuller"
   ]
  },
  {
   "cell_type": "code",
   "execution_count": 45,
   "metadata": {},
   "outputs": [],
   "source": [
    "test_result=adfuller(df['Adj Close'])"
   ]
  },
  {
   "cell_type": "code",
   "execution_count": 12,
   "metadata": {},
   "outputs": [],
   "source": [
    "#Ho: It is non stationary\n",
    "#H1: It is stationary\n",
    "\n",
    "def adfuller_test(a):\n",
    "    result=adfuller(a)\n",
    "    labels = ['ADF Test Statistic','p-value','#Lags Used','Number of Observations Used']\n",
    "    for value,label in zip(result,labels):\n",
    "        print(label+' : '+str(value) )\n",
    "    if result[1] <= 0.05:\n",
    "        print(\"strong evidence against the null hypothesis(Ho), reject the null hypothesis. Data has no unit root and is stationary\")\n",
    "    else:\n",
    "        print(\"weak evidence against null hypothesis, time series has a unit root, indicating it is non-stationary \")\n",
    "    "
   ]
  },
  {
   "cell_type": "code",
   "execution_count": 13,
   "metadata": {},
   "outputs": [
    {
     "name": "stdout",
     "output_type": "stream",
     "text": [
      "ADF Test Statistic : -0.40404232156414643\n",
      "p-value : 0.9094216634702803\n",
      "#Lags Used : 6\n",
      "Number of Observations Used : 1160\n",
      "weak evidence against null hypothesis, time series has a unit root, indicating it is non-stationary \n"
     ]
    }
   ],
   "source": [
    "adfuller_test(df['Adj Close'])"
   ]
  },
  {
   "cell_type": "markdown",
   "metadata": {},
   "source": [
    "## Differencing"
   ]
  },
  {
   "cell_type": "code",
   "execution_count": 14,
   "metadata": {},
   "outputs": [],
   "source": [
    "df['NIFTY First Difference'] = df['Adj Close'] - df['Adj Close'].shift(1)"
   ]
  },
  {
   "cell_type": "code",
   "execution_count": 35,
   "metadata": {},
   "outputs": [],
   "source": [
    "df['Seasonal First Difference']=df['Adj Close']-df['Adj Close'].shift(30)"
   ]
  },
  {
   "cell_type": "code",
   "execution_count": 15,
   "metadata": {},
   "outputs": [
    {
     "data": {
      "text/html": [
       "<div>\n",
       "<style scoped>\n",
       "    .dataframe tbody tr th:only-of-type {\n",
       "        vertical-align: middle;\n",
       "    }\n",
       "\n",
       "    .dataframe tbody tr th {\n",
       "        vertical-align: top;\n",
       "    }\n",
       "\n",
       "    .dataframe thead th {\n",
       "        text-align: right;\n",
       "    }\n",
       "</style>\n",
       "<table border=\"1\" class=\"dataframe\">\n",
       "  <thead>\n",
       "    <tr style=\"text-align: right;\">\n",
       "      <th></th>\n",
       "      <th>DATE</th>\n",
       "      <th>Open</th>\n",
       "      <th>High</th>\n",
       "      <th>Low</th>\n",
       "      <th>Close</th>\n",
       "      <th>Adj Close</th>\n",
       "      <th>Volume</th>\n",
       "      <th>NIFTY First Difference</th>\n",
       "    </tr>\n",
       "    <tr>\n",
       "      <th>date</th>\n",
       "      <th></th>\n",
       "      <th></th>\n",
       "      <th></th>\n",
       "      <th></th>\n",
       "      <th></th>\n",
       "      <th></th>\n",
       "      <th></th>\n",
       "      <th></th>\n",
       "    </tr>\n",
       "  </thead>\n",
       "  <tbody>\n",
       "    <tr>\n",
       "      <th>2018-01-01</th>\n",
       "      <td>1</td>\n",
       "      <td>9646.700195</td>\n",
       "      <td>9647.049805</td>\n",
       "      <td>9598.500000</td>\n",
       "      <td>9616.400391</td>\n",
       "      <td>9616.400391</td>\n",
       "      <td>141400.0</td>\n",
       "      <td>NaN</td>\n",
       "    </tr>\n",
       "    <tr>\n",
       "      <th>2018-01-02</th>\n",
       "      <td>2</td>\n",
       "      <td>9615.549805</td>\n",
       "      <td>9654.150391</td>\n",
       "      <td>9595.400391</td>\n",
       "      <td>9606.900391</td>\n",
       "      <td>9606.900391</td>\n",
       "      <td>129700.0</td>\n",
       "      <td>-9.500000</td>\n",
       "    </tr>\n",
       "    <tr>\n",
       "      <th>2018-01-03</th>\n",
       "      <td>3</td>\n",
       "      <td>9621.549805</td>\n",
       "      <td>9627.400391</td>\n",
       "      <td>9580.450195</td>\n",
       "      <td>9618.150391</td>\n",
       "      <td>9618.150391</td>\n",
       "      <td>181800.0</td>\n",
       "      <td>11.250000</td>\n",
       "    </tr>\n",
       "    <tr>\n",
       "      <th>2018-01-04</th>\n",
       "      <td>4</td>\n",
       "      <td>9617.900391</td>\n",
       "      <td>9621.400391</td>\n",
       "      <td>9560.799805</td>\n",
       "      <td>9578.049805</td>\n",
       "      <td>9578.049805</td>\n",
       "      <td>171100.0</td>\n",
       "      <td>-40.100586</td>\n",
       "    </tr>\n",
       "    <tr>\n",
       "      <th>2018-01-05</th>\n",
       "      <td>5</td>\n",
       "      <td>9595.450195</td>\n",
       "      <td>9615.849609</td>\n",
       "      <td>9565.500000</td>\n",
       "      <td>9588.049805</td>\n",
       "      <td>9588.049805</td>\n",
       "      <td>213200.0</td>\n",
       "      <td>10.000000</td>\n",
       "    </tr>\n",
       "    <tr>\n",
       "      <th>2018-01-06</th>\n",
       "      <td>6</td>\n",
       "      <td>9626.400391</td>\n",
       "      <td>9673.299805</td>\n",
       "      <td>9614.900391</td>\n",
       "      <td>9657.549805</td>\n",
       "      <td>9657.549805</td>\n",
       "      <td>141700.0</td>\n",
       "      <td>69.500000</td>\n",
       "    </tr>\n",
       "    <tr>\n",
       "      <th>2018-01-07</th>\n",
       "      <td>7</td>\n",
       "      <td>9670.500000</td>\n",
       "      <td>9676.500000</td>\n",
       "      <td>9643.750000</td>\n",
       "      <td>9653.500000</td>\n",
       "      <td>9653.500000</td>\n",
       "      <td>159500.0</td>\n",
       "      <td>-4.049805</td>\n",
       "    </tr>\n",
       "    <tr>\n",
       "      <th>2018-01-08</th>\n",
       "      <td>8</td>\n",
       "      <td>9648.099609</td>\n",
       "      <td>9650.450195</td>\n",
       "      <td>9608.599609</td>\n",
       "      <td>9633.599609</td>\n",
       "      <td>9633.599609</td>\n",
       "      <td>144000.0</td>\n",
       "      <td>-19.900391</td>\n",
       "    </tr>\n",
       "    <tr>\n",
       "      <th>2018-01-09</th>\n",
       "      <td>9</td>\n",
       "      <td>9642.650391</td>\n",
       "      <td>9698.849609</td>\n",
       "      <td>9617.750000</td>\n",
       "      <td>9630.000000</td>\n",
       "      <td>9630.000000</td>\n",
       "      <td>198800.0</td>\n",
       "      <td>-3.599609</td>\n",
       "    </tr>\n",
       "    <tr>\n",
       "      <th>2018-01-10</th>\n",
       "      <td>10</td>\n",
       "      <td>9643.250000</td>\n",
       "      <td>9647.650391</td>\n",
       "      <td>9565.299805</td>\n",
       "      <td>9574.950195</td>\n",
       "      <td>9574.950195</td>\n",
       "      <td>175200.0</td>\n",
       "      <td>-55.049805</td>\n",
       "    </tr>\n",
       "    <tr>\n",
       "      <th>2018-01-11</th>\n",
       "      <td>11</td>\n",
       "      <td>9594.049805</td>\n",
       "      <td>9615.400391</td>\n",
       "      <td>9473.450195</td>\n",
       "      <td>9511.400391</td>\n",
       "      <td>9511.400391</td>\n",
       "      <td>203300.0</td>\n",
       "      <td>-63.549804</td>\n",
       "    </tr>\n",
       "    <tr>\n",
       "      <th>2018-01-12</th>\n",
       "      <td>12</td>\n",
       "      <td>9520.200195</td>\n",
       "      <td>9522.500000</td>\n",
       "      <td>9474.349609</td>\n",
       "      <td>9491.250000</td>\n",
       "      <td>9491.250000</td>\n",
       "      <td>172400.0</td>\n",
       "      <td>-20.150391</td>\n",
       "    </tr>\n",
       "    <tr>\n",
       "      <th>2018-01-13</th>\n",
       "      <td>13</td>\n",
       "      <td>9522.950195</td>\n",
       "      <td>9575.799805</td>\n",
       "      <td>9493.799805</td>\n",
       "      <td>9504.099609</td>\n",
       "      <td>9504.099609</td>\n",
       "      <td>259300.0</td>\n",
       "      <td>12.849609</td>\n",
       "    </tr>\n",
       "    <tr>\n",
       "      <th>2018-01-14</th>\n",
       "      <td>14</td>\n",
       "      <td>9478.500000</td>\n",
       "      <td>9535.799805</td>\n",
       "      <td>9448.750000</td>\n",
       "      <td>9520.900391</td>\n",
       "      <td>9520.900391</td>\n",
       "      <td>179600.0</td>\n",
       "      <td>16.800782</td>\n",
       "    </tr>\n",
       "  </tbody>\n",
       "</table>\n",
       "</div>"
      ],
      "text/plain": [
       "            DATE         Open         High          Low        Close  \\\n",
       "date                                                                   \n",
       "2018-01-01     1  9646.700195  9647.049805  9598.500000  9616.400391   \n",
       "2018-01-02     2  9615.549805  9654.150391  9595.400391  9606.900391   \n",
       "2018-01-03     3  9621.549805  9627.400391  9580.450195  9618.150391   \n",
       "2018-01-04     4  9617.900391  9621.400391  9560.799805  9578.049805   \n",
       "2018-01-05     5  9595.450195  9615.849609  9565.500000  9588.049805   \n",
       "2018-01-06     6  9626.400391  9673.299805  9614.900391  9657.549805   \n",
       "2018-01-07     7  9670.500000  9676.500000  9643.750000  9653.500000   \n",
       "2018-01-08     8  9648.099609  9650.450195  9608.599609  9633.599609   \n",
       "2018-01-09     9  9642.650391  9698.849609  9617.750000  9630.000000   \n",
       "2018-01-10    10  9643.250000  9647.650391  9565.299805  9574.950195   \n",
       "2018-01-11    11  9594.049805  9615.400391  9473.450195  9511.400391   \n",
       "2018-01-12    12  9520.200195  9522.500000  9474.349609  9491.250000   \n",
       "2018-01-13    13  9522.950195  9575.799805  9493.799805  9504.099609   \n",
       "2018-01-14    14  9478.500000  9535.799805  9448.750000  9520.900391   \n",
       "\n",
       "              Adj Close    Volume  NIFTY First Difference  \n",
       "date                                                       \n",
       "2018-01-01  9616.400391  141400.0                     NaN  \n",
       "2018-01-02  9606.900391  129700.0               -9.500000  \n",
       "2018-01-03  9618.150391  181800.0               11.250000  \n",
       "2018-01-04  9578.049805  171100.0              -40.100586  \n",
       "2018-01-05  9588.049805  213200.0               10.000000  \n",
       "2018-01-06  9657.549805  141700.0               69.500000  \n",
       "2018-01-07  9653.500000  159500.0               -4.049805  \n",
       "2018-01-08  9633.599609  144000.0              -19.900391  \n",
       "2018-01-09  9630.000000  198800.0               -3.599609  \n",
       "2018-01-10  9574.950195  175200.0              -55.049805  \n",
       "2018-01-11  9511.400391  203300.0              -63.549804  \n",
       "2018-01-12  9491.250000  172400.0              -20.150391  \n",
       "2018-01-13  9504.099609  259300.0               12.849609  \n",
       "2018-01-14  9520.900391  179600.0               16.800782  "
      ]
     },
     "execution_count": 15,
     "metadata": {},
     "output_type": "execute_result"
    }
   ],
   "source": [
    "df.head(14)"
   ]
  },
  {
   "cell_type": "code",
   "execution_count": 32,
   "metadata": {},
   "outputs": [
    {
     "name": "stdout",
     "output_type": "stream",
     "text": [
      "ADF Test Statistic : -14.018164643910612\n",
      "p-value : 3.611354372326074e-26\n",
      "#Lags Used : 5\n",
      "Number of Observations Used : 1160\n",
      "strong evidence against the null hypothesis(Ho), reject the null hypothesis. Data has no unit root and is stationary\n"
     ]
    }
   ],
   "source": [
    "## Again test dickey fuller test\n",
    "adfuller_test(df['NIFTY First Difference'].dropna())"
   ]
  },
  {
   "cell_type": "code",
   "execution_count": 36,
   "metadata": {},
   "outputs": [
    {
     "data": {
      "text/plain": [
       "<AxesSubplot:xlabel='date'>"
      ]
     },
     "execution_count": 36,
     "metadata": {},
     "output_type": "execute_result"
    },
    {
     "data": {
      "image/png": "[encoded data removed]",
      "text/plain": [
       "<Figure size 432x288 with 1 Axes>"
      ]
     },
     "metadata": {
      "needs_background": "light"
     },
     "output_type": "display_data"
    }
   ],
   "source": [
    "df['Seasonal First Difference'].plot()"
   ]
  },
  {
   "cell_type": "code",
   "execution_count": 168,
   "metadata": {},
   "outputs": [
    {
     "data": {
      "text/plain": [
       "<AxesSubplot:xlabel='date'>"
      ]
     },
     "execution_count": 168,
     "metadata": {},
     "output_type": "execute_result"
    },
    {
     "data": {
      "image/png": "[encoded data removed]",
      "text/plain": [
       "<Figure size 432x288 with 1 Axes>"
      ]
     },
     "metadata": {
      "needs_background": "light"
     },
     "output_type": "display_data"
    }
   ],
   "source": [
    "df['NIFTY First Difference'].plot()"
   ]
  },
  {
   "attachments": {
    "image.png": {
     "image/png": "[encoded data removed]"
    }
   },
   "cell_type": "markdown",
   "metadata": {},
   "source": [
    "## Auto Regressive Model\n",
    "![image.png](attachment:image.png)"
   ]
  },
  {
   "cell_type": "code",
   "execution_count": 190,
   "metadata": {},
   "outputs": [
    {
     "data": {
      "image/png": "[encoded data removed]",
      "text/plain": [
       "<Figure size 432x288 with 1 Axes>"
      ]
     },
     "metadata": {
      "needs_background": "light"
     },
     "output_type": "display_data"
    }
   ],
   "source": [
    "from pandas.plotting import autocorrelation_plot\n",
    "autocorrelation_plot(df['Adj Close'])\n",
    "plt.show()"
   ]
  },
  {
   "cell_type": "markdown",
   "metadata": {},
   "source": [
    "### Final Thoughts on Autocorrelation and Partial Autocorrelation\n",
    "\n",
    "* Identification of an AR model is often best done with the PACF.\n",
    "    * For an AR model, the theoretical PACF “shuts off” past the order of the model.  The phrase “shuts off” means that in theory the partial autocorrelations are equal to 0 beyond that point.  Put another way, the number of non-zero partial autocorrelations gives the order of the AR model.  By the “order of the model” we mean the most extreme lag of x that is used as a predictor.\n",
    "    \n",
    "    \n",
    "* Identification of an MA model is often best done with the ACF rather than the PACF.\n",
    "    * For an MA model, the theoretical PACF does not shut off, but instead tapers toward 0 in some manner.  A clearer pattern for an MA model is in the ACF.  The ACF will have non-zero autocorrelations only at lags involved in the model.\n",
    "    \n",
    "    p,d,q\n",
    "    p AR model lags\n",
    "    d differencing\n",
    "    q MA lags"
   ]
  },
  {
   "cell_type": "code",
   "execution_count": 18,
   "metadata": {},
   "outputs": [],
   "source": [
    "from statsmodels.graphics.tsaplots import plot_acf,plot_pacf"
   ]
  },
  {
   "cell_type": "code",
   "execution_count": 19,
   "metadata": {},
   "outputs": [
    {
     "name": "stderr",
     "output_type": "stream",
     "text": [
      "C:\\Users\\Admin\\anaconda3\\lib\\site-packages\\statsmodels\\graphics\\tsaplots.py:348: FutureWarning: The default method 'yw' can produce PACF values outside of the [-1,1] interval. After 0.13, the default will change tounadjusted Yule-Walker ('ywm'). You can use this method now by setting method='ywm'.\n",
      "  warnings.warn(\n"
     ]
    },
    {
     "data": {
      "image/png": "[encoded data removed]",
      "text/plain": [
       "<Figure size 864x576 with 2 Axes>"
      ]
     },
     "metadata": {
      "needs_background": "light"
     },
     "output_type": "display_data"
    }
   ],
   "source": [
    "fig = plt.figure(figsize=(12,8))\n",
    "ax1 = fig.add_subplot(211)\n",
    "fig = plot_acf(df['NIFTY First Difference'].iloc[13:],lags=40,ax=ax1)\n",
    "ax2 = fig.add_subplot(212)\n",
    "fig = plot_pacf(df['NIFTY First Difference'].iloc[13:],lags=40,ax=ax2)"
   ]
  },
  {
   "cell_type": "code",
   "execution_count": 33,
   "metadata": {},
   "outputs": [],
   "source": [
    "# For non-seasonal data\n",
    "#p=1, d=1, q=0 or 1\n",
    "from statsmodels.tsa.arima_model import ARIMA"
   ]
  },
  {
   "cell_type": "code",
   "execution_count": 20,
   "metadata": {},
   "outputs": [],
   "source": [
    "from statsmodels.tsa.arima.model import ARIMA"
   ]
  },
  {
   "cell_type": "code",
   "execution_count": 293,
   "metadata": {},
   "outputs": [
    {
     "name": "stderr",
     "output_type": "stream",
     "text": [
      "C:\\Users\\Admin\\anaconda3\\lib\\site-packages\\statsmodels\\tsa\\base\\tsa_model.py:471: ValueWarning: No frequency information was provided, so inferred frequency D will be used.\n",
      "  self._init_dates(dates, freq)\n",
      "C:\\Users\\Admin\\anaconda3\\lib\\site-packages\\statsmodels\\tsa\\base\\tsa_model.py:471: ValueWarning: No frequency information was provided, so inferred frequency D will be used.\n",
      "  self._init_dates(dates, freq)\n",
      "C:\\Users\\Admin\\anaconda3\\lib\\site-packages\\statsmodels\\tsa\\base\\tsa_model.py:471: ValueWarning: No frequency information was provided, so inferred frequency D will be used.\n",
      "  self._init_dates(dates, freq)\n"
     ]
    }
   ],
   "source": [
    "model=ARIMA(df['Close'],order=(5,1,3))\n",
    "model_fit=model.fit()"
   ]
  },
  {
   "cell_type": "code",
   "execution_count": 296,
   "metadata": {},
   "outputs": [
    {
     "data": {
      "text/html": [
       "<table class=\"simpletable\">\n",
       "<caption>SARIMAX Results</caption>\n",
       "<tr>\n",
       "  <th>Dep. Variable:</th>         <td>Close</td>      <th>  No. Observations:  </th>   <td>1167</td>   \n",
       "</tr>\n",
       "<tr>\n",
       "  <th>Model:</th>            <td>ARIMA(5, 1, 3)</td>  <th>  Log Likelihood     </th> <td>-7612.831</td>\n",
       "</tr>\n",
       "<tr>\n",
       "  <th>Date:</th>            <td>Wed, 22 Jun 2022</td> <th>  AIC                </th> <td>15243.663</td>\n",
       "</tr>\n",
       "<tr>\n",
       "  <th>Time:</th>                <td>11:45:34</td>     <th>  BIC                </th> <td>15289.215</td>\n",
       "</tr>\n",
       "<tr>\n",
       "  <th>Sample:</th>             <td>01-01-2018</td>    <th>  HQIC               </th> <td>15260.846</td>\n",
       "</tr>\n",
       "<tr>\n",
       "  <th></th>                   <td>- 03-12-2021</td>   <th>                     </th>     <td> </td>    \n",
       "</tr>\n",
       "<tr>\n",
       "  <th>Covariance Type:</th>        <td>opg</td>       <th>                     </th>     <td> </td>    \n",
       "</tr>\n",
       "</table>\n",
       "<table class=\"simpletable\">\n",
       "<tr>\n",
       "     <td></td>       <th>coef</th>     <th>std err</th>      <th>z</th>      <th>P>|z|</th>  <th>[0.025</th>    <th>0.975]</th>  \n",
       "</tr>\n",
       "<tr>\n",
       "  <th>ar.L1</th>  <td>   -0.5079</td> <td>    0.157</td> <td>   -3.233</td> <td> 0.001</td> <td>   -0.816</td> <td>   -0.200</td>\n",
       "</tr>\n",
       "<tr>\n",
       "  <th>ar.L2</th>  <td>    0.3130</td> <td>    0.158</td> <td>    1.985</td> <td> 0.047</td> <td>    0.004</td> <td>    0.622</td>\n",
       "</tr>\n",
       "<tr>\n",
       "  <th>ar.L3</th>  <td>    0.6155</td> <td>    0.180</td> <td>    3.418</td> <td> 0.001</td> <td>    0.263</td> <td>    0.968</td>\n",
       "</tr>\n",
       "<tr>\n",
       "  <th>ar.L4</th>  <td>    0.1271</td> <td>    0.043</td> <td>    2.968</td> <td> 0.003</td> <td>    0.043</td> <td>    0.211</td>\n",
       "</tr>\n",
       "<tr>\n",
       "  <th>ar.L5</th>  <td>    0.1204</td> <td>    0.028</td> <td>    4.345</td> <td> 0.000</td> <td>    0.066</td> <td>    0.175</td>\n",
       "</tr>\n",
       "<tr>\n",
       "  <th>ma.L1</th>  <td>    0.3375</td> <td>    0.158</td> <td>    2.133</td> <td> 0.033</td> <td>    0.027</td> <td>    0.648</td>\n",
       "</tr>\n",
       "<tr>\n",
       "  <th>ma.L2</th>  <td>   -0.4134</td> <td>    0.154</td> <td>   -2.676</td> <td> 0.007</td> <td>   -0.716</td> <td>   -0.111</td>\n",
       "</tr>\n",
       "<tr>\n",
       "  <th>ma.L3</th>  <td>   -0.5925</td> <td>    0.174</td> <td>   -3.411</td> <td> 0.001</td> <td>   -0.933</td> <td>   -0.252</td>\n",
       "</tr>\n",
       "<tr>\n",
       "  <th>sigma2</th> <td> 2.772e+04</td> <td>  386.115</td> <td>   71.780</td> <td> 0.000</td> <td>  2.7e+04</td> <td> 2.85e+04</td>\n",
       "</tr>\n",
       "</table>\n",
       "<table class=\"simpletable\">\n",
       "<tr>\n",
       "  <th>Ljung-Box (L1) (Q):</th>     <td>0.01</td> <th>  Jarque-Bera (JB):  </th> <td>30209.52</td>\n",
       "</tr>\n",
       "<tr>\n",
       "  <th>Prob(Q):</th>                <td>0.94</td> <th>  Prob(JB):          </th>   <td>0.00</td>  \n",
       "</tr>\n",
       "<tr>\n",
       "  <th>Heteroskedasticity (H):</th> <td>0.93</td> <th>  Skew:              </th>   <td>-0.04</td> \n",
       "</tr>\n",
       "<tr>\n",
       "  <th>Prob(H) (two-sided):</th>    <td>0.50</td> <th>  Kurtosis:          </th>   <td>27.94</td> \n",
       "</tr>\n",
       "</table><br/><br/>Warnings:<br/>[1] Covariance matrix calculated using the outer product of gradients (complex-step)."
      ],
      "text/plain": [
       "<class 'statsmodels.iolib.summary.Summary'>\n",
       "\"\"\"\n",
       "                               SARIMAX Results                                \n",
       "==============================================================================\n",
       "Dep. Variable:                  Close   No. Observations:                 1167\n",
       "Model:                 ARIMA(5, 1, 3)   Log Likelihood               -7612.831\n",
       "Date:                Wed, 22 Jun 2022   AIC                          15243.663\n",
       "Time:                        11:45:34   BIC                          15289.215\n",
       "Sample:                    01-01-2018   HQIC                         15260.846\n",
       "                         - 03-12-2021                                         \n",
       "Covariance Type:                  opg                                         \n",
       "==============================================================================\n",
       "                 coef    std err          z      P>|z|      [0.025      0.975]\n",
       "------------------------------------------------------------------------------\n",
       "ar.L1         -0.5079      0.157     -3.233      0.001      -0.816      -0.200\n",
       "ar.L2          0.3130      0.158      1.985      0.047       0.004       0.622\n",
       "ar.L3          0.6155      0.180      3.418      0.001       0.263       0.968\n",
       "ar.L4          0.1271      0.043      2.968      0.003       0.043       0.211\n",
       "ar.L5          0.1204      0.028      4.345      0.000       0.066       0.175\n",
       "ma.L1          0.3375      0.158      2.133      0.033       0.027       0.648\n",
       "ma.L2         -0.4134      0.154     -2.676      0.007      -0.716      -0.111\n",
       "ma.L3         -0.5925      0.174     -3.411      0.001      -0.933      -0.252\n",
       "sigma2      2.772e+04    386.115     71.780      0.000     2.7e+04    2.85e+04\n",
       "===================================================================================\n",
       "Ljung-Box (L1) (Q):                   0.01   Jarque-Bera (JB):             30209.52\n",
       "Prob(Q):                              0.94   Prob(JB):                         0.00\n",
       "Heteroskedasticity (H):               0.93   Skew:                            -0.04\n",
       "Prob(H) (two-sided):                  0.50   Kurtosis:                        27.94\n",
       "===================================================================================\n",
       "\n",
       "Warnings:\n",
       "[1] Covariance matrix calculated using the outer product of gradients (complex-step).\n",
       "\"\"\""
      ]
     },
     "execution_count": 296,
     "metadata": {},
     "output_type": "execute_result"
    }
   ],
   "source": [
    "model_fit.summary()"
   ]
  },
  {
   "cell_type": "code",
   "execution_count": 313,
   "metadata": {},
   "outputs": [
    {
     "data": {
      "text/plain": [
       "<AxesSubplot:xlabel='date'>"
      ]
     },
     "execution_count": 313,
     "metadata": {},
     "output_type": "execute_result"
    },
    {
     "data": {
      "image/png": "[encoded data removed]",
      "text/plain": [
       "<Figure size 1080x576 with 1 Axes>"
      ]
     },
     "metadata": {
      "needs_background": "light"
     },
     "output_type": "display_data"
    }
   ],
   "source": [
    "df['forecast']=model_fit.predict(start=1, end=1167)\n",
    "df[['Close','forecast']].plot(figsize=(15,8))\n"
   ]
  },
  {
   "cell_type": "code",
   "execution_count": 314,
   "metadata": {},
   "outputs": [
    {
     "data": {
      "image/png": "[encoded data removed]",
      "text/plain": [
       "<Figure size 1080x576 with 1 Axes>"
      ]
     },
     "metadata": {
      "needs_background": "light"
     },
     "output_type": "display_data"
    }
   ],
   "source": [
    "plt.rcParams[\"figure.figsize\"] = (15,8)\n",
    "plt.plot(df['Adj Close'], label='Actual')\n",
    "plt.plot(df['forecast'],label='predicted')\n",
    "plt.plot(forecast_30, label='forected_30')\n",
    "plt.legend(fontsize=16,loc =\"upper left\")\n",
    "plt.show()"
   ]
  },
  {
   "cell_type": "code",
   "execution_count": null,
   "metadata": {},
   "outputs": [],
   "source": []
  },
  {
   "cell_type": "code",
   "execution_count": 315,
   "metadata": {},
   "outputs": [
    {
     "data": {
      "text/plain": [
       "163.71780652073855"
      ]
     },
     "execution_count": 315,
     "metadata": {},
     "output_type": "execute_result"
    }
   ],
   "source": [
    "### Calculate RMSE performance metrics\n",
    "import math\n",
    "from sklearn.metrics import mean_squared_error\n",
    "math.sqrt(mean_squared_error(df['Close'],df['forecast']))"
   ]
  },
  {
   "cell_type": "code",
   "execution_count": 299,
   "metadata": {},
   "outputs": [],
   "source": [
    "forecast_30=model_fit.predict(start=1163, end=1193)"
   ]
  },
  {
   "cell_type": "code",
   "execution_count": 312,
   "metadata": {},
   "outputs": [
    {
     "data": {
      "text/plain": [
       "<AxesSubplot:>"
      ]
     },
     "execution_count": 312,
     "metadata": {},
     "output_type": "execute_result"
    },
    {
     "data": {
      "image/png": "[encoded data removed]",
      "text/plain": [
       "<Figure size 1080x576 with 1 Axes>"
      ]
     },
     "metadata": {
      "needs_background": "light"
     },
     "output_type": "display_data"
    }
   ],
   "source": [
    "forecast_30.plot(figsize=(15,8))"
   ]
  },
  {
   "cell_type": "code",
   "execution_count": 132,
   "metadata": {},
   "outputs": [
    {
     "name": "stdout",
     "output_type": "stream",
     "text": [
      "Collecting pmdarimaNote: you may need to restart the kernel to use updated packages.\n",
      "  Downloading pmdarima-1.8.5-cp39-cp39-win_amd64.whl (601 kB)\n",
      "Requirement already satisfied: urllib3 in c:\\users\\admin\\anaconda3\\lib\\site-packages (from pmdarima) (1.26.9)\n",
      "Requirement already satisfied: joblib>=0.11 in c:\\users\\admin\\anaconda3\\lib\\site-packages (from pmdarima) (1.1.0)\n",
      "Requirement already satisfied: scipy>=1.3.2 in c:\\users\\admin\\anaconda3\\lib\\site-packages (from pmdarima) (1.7.3)\n",
      "Requirement already satisfied: scikit-learn>=0.22 in c:\\users\\admin\\anaconda3\\lib\\site-packages (from pmdarima) (1.0.2)\n",
      "Requirement already satisfied: setuptools!=50.0.0,>=38.6.0 in c:\\users\\admin\\anaconda3\\lib\\site-packages (from pmdarima) (61.2.0)\n",
      "Requirement already satisfied: pandas>=0.19 in c:\\users\\admin\\anaconda3\\lib\\site-packages (from pmdarima) (1.4.2)\n",
      "Requirement already satisfied: statsmodels!=0.12.0,>=0.11 in c:\\users\\admin\\anaconda3\\lib\\site-packages (from pmdarima) (0.13.2)\n",
      "Requirement already satisfied: Cython!=0.29.18,>=0.29 in c:\\users\\admin\\anaconda3\\lib\\site-packages (from pmdarima) (0.29.28)\n",
      "Requirement already satisfied: numpy>=1.19.3 in c:\\users\\admin\\anaconda3\\lib\\site-packages (from pmdarima) (1.21.5)\n",
      "Requirement already satisfied: python-dateutil>=2.8.1 in c:\\users\\admin\\anaconda3\\lib\\site-packages (from pandas>=0.19->pmdarima) (2.8.2)\n",
      "Requirement already satisfied: pytz>=2020.1 in c:\\users\\admin\\anaconda3\\lib\\site-packages (from pandas>=0.19->pmdarima) (2021.3)\n",
      "Requirement already satisfied: six>=1.5 in c:\\users\\admin\\anaconda3\\lib\\site-packages (from python-dateutil>=2.8.1->pandas>=0.19->pmdarima) (1.16.0)\n",
      "Requirement already satisfied: threadpoolctl>=2.0.0 in c:\\users\\admin\\anaconda3\\lib\\site-packages (from scikit-learn>=0.22->pmdarima) (2.2.0)\n",
      "Requirement already satisfied: patsy>=0.5.2 in c:\\users\\admin\\anaconda3\\lib\\site-packages (from statsmodels!=0.12.0,>=0.11->pmdarima) (0.5.2)\n",
      "Requirement already satisfied: packaging>=21.3 in c:\\users\\admin\\anaconda3\\lib\\site-packages (from statsmodels!=0.12.0,>=0.11->pmdarima) (21.3)\n",
      "Requirement already satisfied: pyparsing!=3.0.5,>=2.0.2 in c:\\users\\admin\\anaconda3\\lib\\site-packages (from packaging>=21.3->statsmodels!=0.12.0,>=0.11->pmdarima) (3.0.4)\n",
      "Installing collected packages: pmdarima\n",
      "Successfully installed pmdarima-1.8.5\n",
      "\n"
     ]
    }
   ],
   "source": [
    "# to install pmdarima library to run autoarima method\n",
    "pip install pmdarima"
   ]
  },
  {
   "cell_type": "code",
   "execution_count": 133,
   "metadata": {},
   "outputs": [],
   "source": [
    "# importing autoARIMA method from pmdarima library \n",
    "from pmdarima import auto_arima"
   ]
  },
  {
   "cell_type": "code",
   "execution_count": 250,
   "metadata": {},
   "outputs": [
    {
     "name": "stdout",
     "output_type": "stream",
     "text": [
      "Performing stepwise search to minimize aic\n",
      " ARIMA(2,1,2)(0,0,0)[0] intercept   : AIC=14714.737, Time=2.24 sec\n",
      " ARIMA(0,1,0)(0,0,0)[0] intercept   : AIC=14734.012, Time=0.05 sec\n",
      " ARIMA(1,1,0)(0,0,0)[0] intercept   : AIC=14735.880, Time=0.15 sec\n",
      " ARIMA(0,1,1)(0,0,0)[0] intercept   : AIC=14735.888, Time=0.20 sec\n",
      " ARIMA(0,1,0)(0,0,0)[0]             : AIC=14734.358, Time=0.02 sec\n",
      " ARIMA(1,1,2)(0,0,0)[0] intercept   : AIC=14739.617, Time=0.92 sec\n",
      " ARIMA(2,1,1)(0,0,0)[0] intercept   : AIC=14739.714, Time=0.58 sec\n",
      " ARIMA(3,1,2)(0,0,0)[0] intercept   : AIC=14712.160, Time=2.53 sec\n",
      " ARIMA(3,1,1)(0,0,0)[0] intercept   : AIC=14740.070, Time=0.54 sec\n",
      " ARIMA(4,1,2)(0,0,0)[0] intercept   : AIC=14705.256, Time=3.59 sec\n",
      " ARIMA(4,1,1)(0,0,0)[0] intercept   : AIC=14737.088, Time=1.31 sec\n",
      " ARIMA(5,1,2)(0,0,0)[0] intercept   : AIC=14705.098, Time=3.03 sec\n",
      " ARIMA(5,1,1)(0,0,0)[0] intercept   : AIC=14714.592, Time=1.51 sec\n",
      " ARIMA(5,1,3)(0,0,0)[0] intercept   : AIC=14702.869, Time=3.55 sec\n",
      " ARIMA(4,1,3)(0,0,0)[0] intercept   : AIC=14706.918, Time=3.56 sec\n",
      " ARIMA(5,1,4)(0,0,0)[0] intercept   : AIC=14704.044, Time=3.58 sec\n",
      " ARIMA(4,1,4)(0,0,0)[0] intercept   : AIC=14706.039, Time=3.81 sec\n",
      " ARIMA(5,1,3)(0,0,0)[0]             : AIC=14702.808, Time=1.95 sec\n",
      " ARIMA(4,1,3)(0,0,0)[0]             : AIC=14706.235, Time=1.85 sec\n",
      " ARIMA(5,1,2)(0,0,0)[0]             : AIC=14704.543, Time=1.77 sec\n",
      " ARIMA(5,1,4)(0,0,0)[0]             : AIC=14703.759, Time=2.20 sec\n",
      " ARIMA(4,1,2)(0,0,0)[0]             : AIC=14704.543, Time=1.75 sec\n",
      " ARIMA(4,1,4)(0,0,0)[0]             : AIC=14704.766, Time=2.39 sec\n",
      "\n",
      "Best model:  ARIMA(5,1,3)(0,0,0)[0]          \n",
      "Total fit time: 43.168 seconds\n"
     ]
    }
   ],
   "source": [
    "step_wise_fit= auto_arima(df[\"Close\"], trace= True, supress_warnings= True)"
   ]
  },
  {
   "cell_type": "code",
   "execution_count": null,
   "metadata": {},
   "outputs": [],
   "source": []
  },
  {
   "cell_type": "code",
   "execution_count": null,
   "metadata": {},
   "outputs": [],
   "source": []
  },
  {
   "cell_type": "code",
   "execution_count": null,
   "metadata": {},
   "outputs": [],
   "source": []
  },
  {
   "cell_type": "code",
   "execution_count": null,
   "metadata": {},
   "outputs": [],
   "source": []
  },
  {
   "cell_type": "code",
   "execution_count": null,
   "metadata": {},
   "outputs": [],
   "source": []
  },
  {
   "cell_type": "code",
   "execution_count": null,
   "metadata": {},
   "outputs": [],
   "source": []
  },
  {
   "cell_type": "code",
   "execution_count": null,
   "metadata": {},
   "outputs": [],
   "source": []
  }
 ],
 "metadata": {
  "kernelspec": {
   "display_name": "Python 3 (ipykernel)",
   "language": "python",
   "name": "python3"
  },
  "language_info": {
   "codemirror_mode": {
    "name": "ipython",
    "version": 3
   },
   "file_extension": ".py",
   "mimetype": "text/x-python",
   "name": "python",
   "nbconvert_exporter": "python",
   "pygments_lexer": "ipython3",
   "version": "3.9.12"
  }
 },
 "nbformat": 4,
 "nbformat_minor": 2
}
